{
  "nbformat": 4,
  "nbformat_minor": 0,
  "metadata": {
    "colab": {
      "provenance": []
    },
    "kernelspec": {
      "name": "python3",
      "display_name": "Python 3"
    },
    "language_info": {
      "name": "python"
    }
  },
  "cells": [
    {
      "cell_type": "code",
      "execution_count": 9,
      "metadata": {
        "colab": {
          "base_uri": "https://localhost:8080/"
        },
        "id": "Necj5V6QzmVf",
        "outputId": "98e993b0-bafa-4797-d349-953dd5ab1526"
      },
      "outputs": [
        {
          "output_type": "stream",
          "name": "stdout",
          "text": [
            "IRIS Dataset:\n",
            "Accuracy: 1.0\n",
            "Confusion Matrix:\n",
            " [[10  0  0]\n",
            " [ 0  9  0]\n",
            " [ 0  0 11]]\n",
            "\n",
            "Drug Dataset:\n",
            "Accuracy: 1.0\n",
            "Confusion Matrix:\n",
            " [[ 6  0  0  0  0]\n",
            " [ 0  3  0  0  0]\n",
            " [ 0  0  5  0  0]\n",
            " [ 0  0  0 11  0]\n",
            " [ 0  0  0  0 15]]\n"
          ]
        }
      ],
      "source": [
        "import pandas as pd\n",
        "from sklearn.model_selection import train_test_split\n",
        "from sklearn.preprocessing import LabelEncoder\n",
        "from sklearn.tree import DecisionTreeClassifier\n",
        "from sklearn.metrics import accuracy_score, confusion_matrix\n",
        "import matplotlib.pyplot as plt\n",
        "from sklearn.tree import plot_tree\n",
        "\n",
        "# Load and process the IRIS dataset\n",
        "iris = pd.read_csv(\"iris (1).csv\")\n",
        "X_iris = iris.iloc[:, :-1]  # Features\n",
        "y_iris = iris.iloc[:, -1]   # Target\n",
        "\n",
        "# Encode target labels\n",
        "label_encoder_iris = LabelEncoder()\n",
        "y_iris = label_encoder_iris.fit_transform(y_iris)\n",
        "\n",
        "# Split the dataset\n",
        "X_train_iris, X_test_iris, y_train_iris, y_test_iris = train_test_split(X_iris, y_iris, test_size=0.2, random_state=42)\n",
        "\n",
        "# Train the DecisionTree model\n",
        "clf_iris = DecisionTreeClassifier(criterion='entropy')\n",
        "clf_iris.fit(X_train_iris, y_train_iris)\n",
        "\n",
        "# Predict and evaluate\n",
        "y_pred_iris = clf_iris.predict(X_test_iris)\n",
        "print(\"IRIS Dataset:\")\n",
        "print(\"Accuracy:\", accuracy_score(y_test_iris, y_pred_iris))\n",
        "print(\"Confusion Matrix:\\n\", confusion_matrix(y_test_iris, y_pred_iris))\n",
        "\n",
        "# Load and process the Drug dataset\n",
        "drug = pd.read_csv(\"drug.csv\")\n",
        "X_drug = drug.iloc[:, :-1]  # Features\n",
        "y_drug = drug.iloc[:, -1]   # Target\n",
        "\n",
        "# Encode categorical features and target\n",
        "label_encoders = {}\n",
        "for column in X_drug.select_dtypes(include=['object']).columns:\n",
        "    le = LabelEncoder()\n",
        "    X_drug[column] = le.fit_transform(X_drug[column])\n",
        "    label_encoders[column] = le\n",
        "\n",
        "y_drug = LabelEncoder().fit_transform(y_drug)\n",
        "\n",
        "# Split the dataset\n",
        "X_train_drug, X_test_drug, y_train_drug, y_test_drug = train_test_split(X_drug, y_drug, test_size=0.2, random_state=42)\n",
        "\n",
        "# Train the DecisionTree model\n",
        "clf_drug = DecisionTreeClassifier(criterion='entropy')\n",
        "clf_drug.fit(X_train_drug, y_train_drug)\n",
        "\n",
        "# Predict and evaluate\n",
        "y_pred_drug = clf_drug.predict(X_test_drug)\n",
        "print(\"\\nDrug Dataset:\")\n",
        "print(\"Accuracy:\", accuracy_score(y_test_drug, y_pred_drug))\n",
        "print(\"Confusion Matrix:\\n\", confusion_matrix(y_test_drug, y_pred_drug))\n",
        "\n",
        "\n"
      ]
    },
    {
      "cell_type": "code",
      "source": [
        "import pandas as pd\n",
        "import numpy as np\n",
        "from sklearn.model_selection import train_test_split\n",
        "from sklearn.tree import DecisionTreeRegressor\n",
        "from sklearn.metrics import mean_absolute_error, mean_squared_error\n",
        "import matplotlib.pyplot as plt\n",
        "from sklearn.tree import plot_tree\n",
        "\n",
        "# Load the dataset\n",
        "petrol_data = pd.read_csv(\"petrol_consumption.csv\")\n",
        "\n",
        "# Split features and target\n",
        "X = petrol_data.iloc[:, :-1]  # Features\n",
        "y = petrol_data.iloc[:, -1]   # Target (Petrol Consumption)\n",
        "\n",
        "# Split the dataset into training (80%) and testing (20%)\n",
        "X_train, X_test, y_train, y_test = train_test_split(X, y, test_size=0.2, random_state=42)\n",
        "\n",
        "# Initialize and train the Regression Tree model\n",
        "regressor = DecisionTreeRegressor(criterion='squared_error', random_state=42)\n",
        "regressor.fit(X_train, y_train)\n",
        "\n",
        "# Make predictions\n",
        "y_pred = regressor.predict(X_test)\n",
        "\n",
        "# Evaluate the model\n",
        "mae = mean_absolute_error(y_test, y_pred)\n",
        "mse = mean_squared_error(y_test, y_pred)\n",
        "rmse = np.sqrt(mse)\n",
        "\n",
        "print(\"Mean Absolute Error (MAE):\", mae)\n",
        "print(\"Mean Squared Error (MSE):\", mse)\n",
        "print(\"Root Mean Squared Error (RMSE):\", rmse)\n",
        "\n",
        "\n"
      ],
      "metadata": {
        "colab": {
          "base_uri": "https://localhost:8080/"
        },
        "id": "TzKWHRhu2D8E",
        "outputId": "b9412800-b7d6-4a20-fdd2-75f920a51119"
      },
      "execution_count": 10,
      "outputs": [
        {
          "output_type": "stream",
          "name": "stdout",
          "text": [
            "Mean Absolute Error (MAE): 94.3\n",
            "Mean Squared Error (MSE): 17347.7\n",
            "Root Mean Squared Error (RMSE): 131.7106677532234\n"
          ]
        }
      ]
    }
  ]
}