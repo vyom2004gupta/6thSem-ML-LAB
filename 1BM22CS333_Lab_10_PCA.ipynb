{
  "nbformat": 4,
  "nbformat_minor": 0,
  "metadata": {
    "colab": {
      "provenance": []
    },
    "kernelspec": {
      "name": "python3",
      "display_name": "Python 3"
    },
    "language_info": {
      "name": "python"
    }
  },
  "cells": [
    {
      "cell_type": "code",
      "execution_count": 1,
      "metadata": {
        "id": "ed3EhNBaUym0",
        "colab": {
          "base_uri": "https://localhost:8080/"
        },
        "outputId": "02c4acc1-4fc6-481b-9b28-e1499c7425ba"
      },
      "outputs": [
        {
          "output_type": "stream",
          "name": "stdout",
          "text": [
            "🔍 Accuracy BEFORE PCA:\n",
            "SVM: 0.8750\n",
            "Logistic Regression: 0.8533\n",
            "Random Forest: 0.8641\n",
            "\n",
            "📉 Accuracy AFTER PCA:\n",
            "SVM: 0.8750\n",
            "Logistic Regression: 0.8533\n",
            "Random Forest: 0.8587\n",
            "\n",
            "Original features: 15\n",
            "Features after PCA: 13\n"
          ]
        }
      ],
      "source": [
        "import pandas as pd\n",
        "from sklearn.model_selection import train_test_split\n",
        "from sklearn.preprocessing import StandardScaler\n",
        "from sklearn.decomposition import PCA\n",
        "from sklearn.svm import SVC\n",
        "from sklearn.linear_model import LogisticRegression\n",
        "from sklearn.ensemble import RandomForestClassifier\n",
        "from sklearn.metrics import accuracy_score\n",
        "\n",
        "\n",
        "df = pd.read_csv(\"heart (1).csv\")\n",
        "\n",
        "\n",
        "categorical_cols = ['Sex', 'ChestPainType', 'RestingECG', 'ExerciseAngina', 'ST_Slope']\n",
        "df = pd.get_dummies(df, columns=categorical_cols, drop_first=True)\n",
        "\n",
        "\n",
        "X = df.drop(\"HeartDisease\", axis=1)\n",
        "y = df[\"HeartDisease\"]\n",
        "\n",
        "\n",
        "scaler = StandardScaler()\n",
        "X_scaled = scaler.fit_transform(X)\n",
        "\n",
        "X_train, X_test, y_train, y_test = train_test_split(X_scaled, y, test_size=0.2, random_state=42)\n",
        "\n",
        "models = {\n",
        "    \"SVM\": SVC(),\n",
        "    \"Logistic Regression\": LogisticRegression(max_iter=1000),\n",
        "    \"Random Forest\": RandomForestClassifier()\n",
        "}\n",
        "\n",
        "accuracy_before_pca = {}\n",
        "for name, model in models.items():\n",
        "    model.fit(X_train, y_train)\n",
        "    y_pred = model.predict(X_test)\n",
        "    accuracy_before_pca[name] = accuracy_score(y_test, y_pred)\n",
        "\n",
        "pca = PCA(n_components=0.95)\n",
        "X_pca = pca.fit_transform(X_scaled)\n",
        "\n",
        "X_train_pca, X_test_pca, y_train_pca, y_test_pca = train_test_split(X_pca, y, test_size=0.2, random_state=42)\n",
        "\n",
        "accuracy_after_pca = {}\n",
        "for name, model in models.items():\n",
        "    model.fit(X_train_pca, y_train_pca)\n",
        "    y_pred_pca = model.predict(X_test_pca)\n",
        "    accuracy_after_pca[name] = accuracy_score(y_test_pca, y_pred_pca)\n",
        "\n",
        "print(\"🔍 Accuracy BEFORE PCA:\")\n",
        "for name, acc in accuracy_before_pca.items():\n",
        "    print(f\"{name}: {acc:.4f}\")\n",
        "\n",
        "print(\"\\n📉 Accuracy AFTER PCA:\")\n",
        "for name, acc in accuracy_after_pca.items():\n",
        "    print(f\"{name}: {acc:.4f}\")\n",
        "\n",
        "print(f\"\\nOriginal features: {X.shape[1]}\")\n",
        "print(f\"Features after PCA: {X_pca.shape[1]}\")\n"
      ]
    }
  ]
}